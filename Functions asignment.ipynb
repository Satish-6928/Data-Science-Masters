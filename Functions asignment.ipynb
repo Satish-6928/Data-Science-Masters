{
 "cells": [
  {
   "cell_type": "markdown",
   "id": "15a4fc0e-1c35-413b-be92-b79f623a189f",
   "metadata": {},
   "source": [
    "### Q1. Which keyword is used to create a function? Create a function to return a list of odd numbers in the range of 1 to 25."
   ]
  },
  {
   "cell_type": "markdown",
   "id": "b1fdde80-2e48-4263-8485-97c8e135e534",
   "metadata": {},
   "source": [
    "### -> def is the keyword used to create fucntion"
   ]
  },
  {
   "cell_type": "code",
   "execution_count": 3,
   "id": "c10a74d7-126d-4209-a8db-7d605e0541c4",
   "metadata": {},
   "outputs": [],
   "source": [
    "def odd_nums(a):\n",
    "    n=[]\n",
    "    for i in range(1,a+1):\n",
    "        if i%2!=0:\n",
    "            n.append(i)\n",
    "    return n   "
   ]
  },
  {
   "cell_type": "code",
   "execution_count": 5,
   "id": "199f85dc-59ad-409f-9385-9f0523882af8",
   "metadata": {},
   "outputs": [
    {
     "name": "stdout",
     "output_type": "stream",
     "text": [
      "[1, 3, 5, 7, 9, 11, 13, 15, 17, 19, 21, 23, 25]\n"
     ]
    }
   ],
   "source": [
    "odd_list = odd_nums(25)\n",
    "print(odd_list)"
   ]
  },
  {
   "cell_type": "markdown",
   "id": "e5b856b2-4784-4b30-9c09-2b6adcf004e1",
   "metadata": {},
   "source": [
    "### Q2. Why *args and **kwargs is used in some functions? Create a function each for *args and **kwargs to demonstrate their use."
   ]
  },
  {
   "cell_type": "markdown",
   "id": "71c9c569-917c-4bd1-be35-329a4c67160c",
   "metadata": {},
   "source": [
    "### -> *args and **kwargs are used in Python functions to accept a variable number of arguments.\n",
    "\n",
    "### *args is used to pass a variable number of non-keyworded arguments to a function. The * symbol in front of args tells Python to treat it as a variable-length argument list. These arguments are packed into a tuple, which the function can then iterate over."
   ]
  },
  {
   "cell_type": "code",
   "execution_count": 6,
   "id": "88dd906d-e4f5-402f-85da-421082e3d7b7",
   "metadata": {},
   "outputs": [
    {
     "name": "stdout",
     "output_type": "stream",
     "text": [
      "10\n"
     ]
    }
   ],
   "source": [
    "# Here's an example function that uses *args:\n",
    "def sum_numbers(*args):\n",
    "    total = 0\n",
    "    for num in args:\n",
    "        total += num\n",
    "    return total\n",
    "sum = sum_numbers(1,2,3,4)\n",
    "print(sum)"
   ]
  },
  {
   "cell_type": "markdown",
   "id": "527a9d7e-20ad-4b94-adfd-c522e513f25b",
   "metadata": {},
   "source": [
    "### **kwargs, on the other hand, is used to pass a variable number of keyword arguments to a function. The ** symbol in front of kwargs tells Python to treat it as a dictionary of key-value pairs. The keys are the argument names and the values are the argument values."
   ]
  },
  {
   "cell_type": "code",
   "execution_count": 9,
   "id": "b8026ae8-4618-4b9d-938d-f929e760067d",
   "metadata": {},
   "outputs": [
    {
     "name": "stdout",
     "output_type": "stream",
     "text": [
      "name: Satish\n",
      "age: 23\n",
      "city: Bangalore\n",
      "None\n"
     ]
    }
   ],
   "source": [
    "# Here's an example function that uses **kwargs: \n",
    "def print_details(**kwargs):\n",
    "    for key, value in kwargs.items():\n",
    "        print(key + \": \" + str(value))\n",
    "details =  print_details(name=\"Satish\", age=23, city=\"Bangalore\")\n",
    "print(details)"
   ]
  },
  {
   "cell_type": "markdown",
   "id": "0da01811-48f5-453e-ad55-310da80ac6e3",
   "metadata": {},
   "source": [
    "### Note that in both cases, the argument names 'args' and 'kwargs' are just conventions - you could use any valid variable name instead."
   ]
  },
  {
   "cell_type": "markdown",
   "id": "d718b901-e785-4216-9363-d6e7b3771a04",
   "metadata": {},
   "source": [
    "### Q3. What is an iterator in python? Name the method used to initialise the iterator object and the method used for iteration. Use these methods to print the first five elements of the given list [2,4,6,8,10,12,14,16,18,20]"
   ]
  },
  {
   "cell_type": "markdown",
   "id": "e178ed8b-979d-4fc0-80f0-16eec8d5c50a",
   "metadata": {},
   "source": [
    "### ->an iterator is an object that implements the iterator protocol, which consists of two methods: __iter__() and __next__().\n",
    "\n",
    "### The __iter__() method is used to initialize the iterator object and return it. The __next__() method is used to iterate through the elements of the iterator and return the next element. When there are no more elements to return, it raises the StopIteration exception."
   ]
  },
  {
   "cell_type": "code",
   "execution_count": 11,
   "id": "892c777e-c96d-40b1-9a6a-c2e7d4a225d9",
   "metadata": {},
   "outputs": [
    {
     "name": "stdout",
     "output_type": "stream",
     "text": [
      "2\n",
      "4\n",
      "6\n",
      "8\n",
      "10\n"
     ]
    }
   ],
   "source": [
    "# Here's how we can use these methods to print the first five elements of the given list:\n",
    "lst = [2, 4, 6, 8, 10, 12, 14, 16, 18, 20]\n",
    "\n",
    "# Initialize the iterator object\n",
    "iter_lst = iter(lst)\n",
    "\n",
    "# Iterate through the first five elements\n",
    "for i in range(5):\n",
    "    print(next(iter_lst))"
   ]
  },
  {
   "cell_type": "markdown",
   "id": "4a594e56-6e49-43fb-bdd9-f284e063c2a5",
   "metadata": {},
   "source": [
    "### Q4. What is a generator function in python? Why yield keyword is used? Give an example of a generator function."
   ]
  },
  {
   "cell_type": "markdown",
   "id": "913214a0-c166-448d-8e2e-9e2afa7a2cfe",
   "metadata": {},
   "source": [
    "### -> A generator function in Python is a special type of function that allows us to generate a sequence of values on the fly, without the need to generate them all at once and store them in memory.\n",
    "\n",
    "### The yield keyword is used in generator functions to specify where to pause and resume the generation of values. When a yield statement is executed, the function's state is frozen, and the yielded value is returned to the caller. The next time the generator function is called, it resumes execution from where it left off, continuing until the next yield statement is encountered."
   ]
  },
  {
   "cell_type": "code",
   "execution_count": 2,
   "id": "99f8ce9b-3394-47b3-bce6-8fe08717ebb5",
   "metadata": {},
   "outputs": [
    {
     "name": "stdout",
     "output_type": "stream",
     "text": [
      "0\n",
      "1\n",
      "2\n",
      "3\n",
      "4\n"
     ]
    }
   ],
   "source": [
    "# Here's an example of a generator function that generates a sequence of numbers from 0 to n:\n",
    "def my_generator(n):\n",
    "    i = 0\n",
    "    while i < n:\n",
    "        yield i\n",
    "        i += 1\n",
    "# We can use this generator function in a for loop to iterate over the sequence of numbers it generates:\n",
    "for num in my_generator(5):\n",
    "    print(num)"
   ]
  },
  {
   "cell_type": "markdown",
   "id": "0c18e4ce-468a-49e9-98d6-c97964dd96b0",
   "metadata": {},
   "source": [
    "### Note that the generator function doesn't create a list of all the numbers upfront, but instead generates them one at a time as the loop requests them. This can be useful for working with large datasets or infinite sequences, where generating all the values at once would be impractical or impossible."
   ]
  },
  {
   "cell_type": "markdown",
   "id": "08fbaf27-e5de-40f1-b34b-e320785eaa95",
   "metadata": {},
   "source": [
    "## Q5. Create a generator function for prime numbers less than 1000. Use the next() method to print the first 20 prime numbers."
   ]
  },
  {
   "cell_type": "code",
   "execution_count": 5,
   "id": "178c59ec-53eb-4e35-8d9d-51a4426944ab",
   "metadata": {},
   "outputs": [
    {
     "name": "stdout",
     "output_type": "stream",
     "text": [
      "3\n",
      "5\n",
      "7\n",
      "11\n",
      "13\n",
      "17\n",
      "19\n",
      "23\n",
      "29\n",
      "31\n",
      "37\n",
      "41\n",
      "43\n",
      "47\n",
      "53\n",
      "59\n",
      "61\n",
      "67\n",
      "71\n",
      "73\n"
     ]
    }
   ],
   "source": [
    "def generate_primes():\n",
    "    \"\"\"\n",
    "    Generate prime numbers less than 1000.\n",
    "    \"\"\"\n",
    "    primes = [2]  # Initialize the list of primes with the first prime number, 2.\n",
    "    num = 3  # Start checking for primes from 3.\n",
    "    while num < 1000:\n",
    "        if all(num % prime != 0 for prime in primes):\n",
    "            primes.append(num)\n",
    "            yield num\n",
    "        num += 2  # Skip even numbers.\n",
    "# Create a generator object for prime numbers less than 1000.\n",
    "prime_gen = generate_primes()\n",
    "\n",
    "# Print the first 20 prime numbers.\n",
    "for _ in range(20):\n",
    "    print(next(prime_gen))"
   ]
  },
  {
   "cell_type": "code",
   "execution_count": null,
   "id": "69276a11-e2e0-406b-a732-5c53477b1cae",
   "metadata": {},
   "outputs": [],
   "source": []
  }
 ],
 "metadata": {
  "kernelspec": {
   "display_name": "Python 3 (ipykernel)",
   "language": "python",
   "name": "python3"
  },
  "language_info": {
   "codemirror_mode": {
    "name": "ipython",
    "version": 3
   },
   "file_extension": ".py",
   "mimetype": "text/x-python",
   "name": "python",
   "nbconvert_exporter": "python",
   "pygments_lexer": "ipython3",
   "version": "3.10.8"
  }
 },
 "nbformat": 4,
 "nbformat_minor": 5
}
