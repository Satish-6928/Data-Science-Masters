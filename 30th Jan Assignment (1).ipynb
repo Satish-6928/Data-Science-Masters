{
 "cells": [
  {
   "cell_type": "markdown",
   "id": "5c81d288-74ad-4226-849b-e9dfc64d76b7",
   "metadata": {},
   "source": [
    "# Satish S Karande\n",
    "## Assignment 2"
   ]
  },
  {
   "cell_type": "markdown",
   "id": "7a2f925a-4d76-4bad-8cc2-9e3060c8ae24",
   "metadata": {},
   "source": [
    "### 1.Write a program to accept percentage from the user and display the grade according to the following criteria:\n",
    "\n",
    "### Marks          Grade\n",
    "\n",
    "1.>90 ->              A\n",
    " \n",
    "2.>80 and <=90 ->   B\n",
    "\n",
    "3.>60 and <=80 ->       C\n",
    "\n",
    "4.below 60 ->         D"
   ]
  },
  {
   "cell_type": "code",
   "execution_count": 2,
   "id": "c77add00-88be-4c91-822e-8c0daf218142",
   "metadata": {},
   "outputs": [
    {
     "name": "stdin",
     "output_type": "stream",
     "text": [
      "Enter the percentage : 95\n"
     ]
    },
    {
     "name": "stdout",
     "output_type": "stream",
     "text": [
      "Your grade is 'A'\n"
     ]
    }
   ],
   "source": [
    "percentage = int(input(\"Enter the percentage :\"))\n",
    "if percentage>90:\n",
    "    print(\"Your grade is 'A'\")\n",
    "elif percentage>80 and percentage<=90:\n",
    "    print(\"Your grade is 'B'\")\n",
    "elif percentage>80 and percentage<=80:\n",
    "    print(\"Your grade is 'C'\")\n",
    "else:\n",
    "     print(\"Your grade is 'D'\")"
   ]
  },
  {
   "cell_type": "markdown",
   "id": "29caab33-699b-4c6c-9dff-2de858722bd2",
   "metadata": {},
   "source": [
    "### 2. Write a program to accept the cost price of a bike and display the road tax to be paid according to the following criteria:\n",
    "\n",
    "### Tax    Cost Price(in Rs)\n",
    "\n",
    "1. 15% - >100000\n",
    "\n",
    "2. 10% - >50000 and <=100000\n",
    "\n",
    "3. 5% - <=50000"
   ]
  },
  {
   "cell_type": "code",
   "execution_count": 6,
   "id": "51d67fa5-fb7b-409b-bbca-43d0fab92fc5",
   "metadata": {},
   "outputs": [
    {
     "name": "stdin",
     "output_type": "stream",
     "text": [
      "Enter the price of the bike 120000\n"
     ]
    },
    {
     "name": "stdout",
     "output_type": "stream",
     "text": [
      "Road tax to be paid is 18000.0\n"
     ]
    }
   ],
   "source": [
    "cost_price = int(input(\"Enter the price of the bike\"))\n",
    "if cost_price > 100000:\n",
    "    print(\"Road tax to be paid is {}\".format(cost_price * 0.15))\n",
    "elif cost_price>50000 and cost_price <= 100000:\n",
    "    print(\"Road tax to be paid is {}\".format(cost_price * 0.10))\n",
    "else:\n",
    "    print(\"Road tax to be paid is {}\".format(cost_price * 0.05))"
   ]
  },
  {
   "cell_type": "markdown",
   "id": "7206f09b-7b0f-44e6-a328-b42ebc356de1",
   "metadata": {},
   "source": [
    "### 3. Accept any city from the user and display monuments of that city.\n",
    "\n",
    "### City     Monument\n",
    "\n",
    "1. Delhi -    Red Fort\n",
    "\n",
    "2. Agra -     Taj Mahal\n",
    "\n",
    "3. Jaipur -   Jal Mahal"
   ]
  },
  {
   "cell_type": "code",
   "execution_count": 10,
   "id": "bbbebd6d-0daa-4079-9a42-51486ba4489f",
   "metadata": {},
   "outputs": [
    {
     "name": "stdin",
     "output_type": "stream",
     "text": [
      "Enter the city Jaipur\n"
     ]
    },
    {
     "name": "stdout",
     "output_type": "stream",
     "text": [
      "The monument in Jaipur is 'Jal Mahal'\n"
     ]
    }
   ],
   "source": [
    "city=input(\"Enter the city\")\n",
    "if city == 'Delhi':\n",
    "    print(\"The monument in Delhi is 'Red Fort'\")\n",
    "elif city == 'Agra':\n",
    "    print(\"The monument in Agra is 'Taj Mahal'\")\n",
    "elif city == 'Jaipur':\n",
    "    print(\"The monument in Jaipur is 'Jal Mahal'\")\n",
    "else:\n",
    "    print(\"Please enter a valid city\")"
   ]
  },
  {
   "cell_type": "markdown",
   "id": "1e27806d-21ab-4ed3-96bc-e75914f6b94f",
   "metadata": {},
   "source": [
    "### 4.Check how many times a given number can be divided by 3 before it is less than or equal to 10."
   ]
  },
  {
   "cell_type": "code",
   "execution_count": 1,
   "id": "b24b06d4-10c3-4ed4-affe-bed2885960b8",
   "metadata": {},
   "outputs": [
    {
     "name": "stdin",
     "output_type": "stream",
     "text": [
      "Enter the number :  99\n"
     ]
    },
    {
     "name": "stdout",
     "output_type": "stream",
     "text": [
      "Number of times divided by 3 is 3 times\n"
     ]
    }
   ],
   "source": [
    "number = int(input(\"Enter the number : \"))\n",
    "count = 0\n",
    "while number>10:\n",
    "    number /= 3\n",
    "    count += 1\n",
    "print(f\"Number of times divided by 3 is {count} times\")"
   ]
  },
  {
   "cell_type": "markdown",
   "id": "2a02fd6a-e770-4c7a-b294-9486e5877b8d",
   "metadata": {},
   "source": [
    "### 5.Why and When to Use while Loop in Python give a detailed description with example"
   ]
  },
  {
   "cell_type": "markdown",
   "id": "784e0e36-8a46-4a72-a322-e9592b0f770e",
   "metadata": {},
   "source": [
    "### -> A while statement is a loop. Basically, it continues to execute the code in the while statement for however long the expression is true.\n",
    "\n",
    "Below code is example for while loop"
   ]
  },
  {
   "cell_type": "code",
   "execution_count": 2,
   "id": "bb830f20-dfea-41d3-8c04-71c7f280373e",
   "metadata": {},
   "outputs": [
    {
     "name": "stdout",
     "output_type": "stream",
     "text": [
      "1\n",
      "2\n",
      "3\n",
      "4\n",
      "5\n",
      "6\n",
      "7\n",
      "8\n",
      "9\n",
      "10\n"
     ]
    }
   ],
   "source": [
    "i=1\n",
    "while i<=10:\n",
    "    print(i)\n",
    "    i+=1"
   ]
  },
  {
   "cell_type": "markdown",
   "id": "95b22358-817c-4ccb-9f2d-a7115d199a62",
   "metadata": {},
   "source": [
    "### 6. Use nested while loop to print 3 different pattern."
   ]
  },
  {
   "cell_type": "code",
   "execution_count": 5,
   "id": "01abb05b-c34c-4227-ad27-a87b218439f7",
   "metadata": {},
   "outputs": [
    {
     "name": "stdin",
     "output_type": "stream",
     "text": [
      "Enter the number 5\n"
     ]
    },
    {
     "name": "stdout",
     "output_type": "stream",
     "text": [
      "*\n",
      "**\n",
      "***\n",
      "****\n",
      "*****\n"
     ]
    }
   ],
   "source": [
    "# Pattern 1\n",
    "n = int(input(\"Enter the number\"))\n",
    "for i in range(1,n+1):\n",
    "    for j in range(1,i+1):\n",
    "        print(\"*\",end='')\n",
    "    print(\"\\r\")"
   ]
  },
  {
   "cell_type": "code",
   "execution_count": 6,
   "id": "53617690-5d40-484a-b532-6f85e43b8c9f",
   "metadata": {},
   "outputs": [
    {
     "name": "stdin",
     "output_type": "stream",
     "text": [
      "Enter the number 5\n"
     ]
    },
    {
     "name": "stdout",
     "output_type": "stream",
     "text": [
      "A\n",
      "BC\n",
      "DEF\n",
      "GHIJ\n",
      "KLMNO\n"
     ]
    }
   ],
   "source": [
    "# Pattern 2\n",
    "n = int(input(\"Enter the number\"))\n",
    "num = 65\n",
    "for i in range(1,n+1):\n",
    "    for j in range(1,i+1):\n",
    "        ch = chr(num)\n",
    "        print(ch,end='')\n",
    "        num += 1\n",
    "    print(\"\\r\")"
   ]
  },
  {
   "cell_type": "code",
   "execution_count": 7,
   "id": "a83ae097-b4f8-474e-b6e6-ef62e280b527",
   "metadata": {},
   "outputs": [
    {
     "name": "stdin",
     "output_type": "stream",
     "text": [
      "Enter the number 5\n"
     ]
    },
    {
     "name": "stdout",
     "output_type": "stream",
     "text": [
      "A\n",
      "BB\n",
      "CCC\n",
      "DDDD\n",
      "EEEEE\n"
     ]
    }
   ],
   "source": [
    "# Pattern 3\n",
    "n = int(input(\"Enter the number\"))\n",
    "num = 65\n",
    "for i in range(1,n+1):\n",
    "    for j in range(1,i+1):\n",
    "        ch = chr(num)\n",
    "        print(ch,end='')\n",
    "    num += 1\n",
    "    print(\"\\r\")"
   ]
  },
  {
   "cell_type": "markdown",
   "id": "a87a96a6-02e0-4808-9680-9e65ae08ecd4",
   "metadata": {},
   "source": [
    "### 7. Reverse a while loop to display numbers from 10 to 1"
   ]
  },
  {
   "cell_type": "code",
   "execution_count": 9,
   "id": "3fd5bfd6-fc64-438a-8c23-6947ba6a88b2",
   "metadata": {},
   "outputs": [
    {
     "name": "stdout",
     "output_type": "stream",
     "text": [
      "10\n",
      "9\n",
      "8\n",
      "7\n",
      "6\n",
      "5\n",
      "4\n",
      "3\n",
      "2\n",
      "1\n"
     ]
    }
   ],
   "source": [
    "n = 10\n",
    "while n > 0:\n",
    "    print(n)\n",
    "    n -= 1"
   ]
  },
  {
   "cell_type": "code",
   "execution_count": null,
   "id": "60516e72-7365-4fcd-a56d-daf47c17c7e2",
   "metadata": {},
   "outputs": [],
   "source": [
    "&th & 8th"
   ]
  }
 ],
 "metadata": {
  "kernelspec": {
   "display_name": "Python 3 (ipykernel)",
   "language": "python",
   "name": "python3"
  },
  "language_info": {
   "codemirror_mode": {
    "name": "ipython",
    "version": 3
   },
   "file_extension": ".py",
   "mimetype": "text/x-python",
   "name": "python",
   "nbconvert_exporter": "python",
   "pygments_lexer": "ipython3",
   "version": "3.10.8"
  }
 },
 "nbformat": 4,
 "nbformat_minor": 5
}
