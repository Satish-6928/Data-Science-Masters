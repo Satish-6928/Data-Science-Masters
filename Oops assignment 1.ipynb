{
 "cells": [
  {
   "cell_type": "markdown",
   "id": "b628f4a6-95dd-40cd-88ba-ea891e2ef013",
   "metadata": {},
   "source": [
    "## Satish S Karande"
   ]
  },
  {
   "cell_type": "markdown",
   "id": "4cab421d-3524-43de-b54b-8a77df789f54",
   "metadata": {},
   "source": [
    "### Q1. Explain Class and Object with respect to Object-Oriented Programming. Give a suitable example."
   ]
  },
  {
   "cell_type": "markdown",
   "id": "18c1a3a6-1332-4b78-a3f4-6b3dc4f7f627",
   "metadata": {},
   "source": [
    "In object-oriented programming, a class is a blueprint or a template that defines the attributes and behaviors of a group of objects. An object is an instance of a class that has its own unique state and behavior.\n",
    "\n",
    "A class defines the properties and behaviors of an object, whereas an object represents a specific instance of a class. For example, a class could be \"Car\", which defines the properties and behaviors that all cars have, such as \"make\", \"model\", \"year\", \"color\", \"drive\", \"stop\", \"accelerate\", \"turn left\", \"turn right\", etc. An object of the \"Car\" class could be \"my_car\", which has its own unique values for the properties defined by the \"Car\" class."
   ]
  },
  {
   "cell_type": "code",
   "execution_count": 3,
   "id": "d696c2b6-2882-4ebe-9d60-692845d274f6",
   "metadata": {},
   "outputs": [
    {
     "name": "stdout",
     "output_type": "stream",
     "text": [
      "Toyota Corolla engine started.\n",
      "Honda Civic accelerating.\n",
      "Toyota Corolla braking.\n"
     ]
    }
   ],
   "source": [
    "# Here's an example of defining a class and creating objects in Python:\n",
    "# defining a class\n",
    "class Car:\n",
    "    # constructor method to initialize the attributes\n",
    "    def __init__(self, make, model, year, color):\n",
    "        self.make = make\n",
    "        self.model = model\n",
    "        self.year = year\n",
    "        self.color = color\n",
    "        \n",
    "    # method to start the engine\n",
    "    def start_engine(self):\n",
    "        print(f\"{self.make} {self.model} engine started.\")\n",
    "        \n",
    "    # method to stop the engine\n",
    "    def stop_engine(self):\n",
    "        print(f\"{self.make} {self.model} engine stopped.\")\n",
    "        \n",
    "    # method to accelerate\n",
    "    def accelerate(self):\n",
    "        print(f\"{self.make} {self.model} accelerating.\")\n",
    "        \n",
    "    # method to brake\n",
    "    def brake(self):\n",
    "        print(f\"{self.make} {self.model} braking.\")\n",
    "        \n",
    "# creating objects\n",
    "my_car = Car(\"Toyota\", \"Corolla\", 2021, \"silver\")\n",
    "your_car = Car(\"Honda\", \"Civic\", 2022, \"red\")\n",
    "\n",
    "# calling methods on objects\n",
    "my_car.start_engine()  # prints \"Toyota Corolla engine started.\"\n",
    "your_car.accelerate()  # prints \"Honda Civic accelerating.\"\n",
    "my_car.brake()         # prints \"Toyota Corolla braking\""
   ]
  },
  {
   "cell_type": "markdown",
   "id": "fe217807-6181-4d59-b498-731e83e81d78",
   "metadata": {},
   "source": [
    "### Q2. Name the four pillars of OOPs."
   ]
  },
  {
   "cell_type": "markdown",
   "id": "a577484a-2b04-469a-ae3b-4aeb0cc50907",
   "metadata": {},
   "source": [
    "1. Abstraction\n",
    "2. Encapsulation\n",
    "3. Inheritence\n",
    "4. Polymorphism"
   ]
  },
  {
   "cell_type": "markdown",
   "id": "669b5801-75a4-4a16-8546-c0e8b0f87e43",
   "metadata": {},
   "source": [
    "### Q3. Explain why the __init__() function is used. Give a suitable example."
   ]
  },
  {
   "cell_type": "markdown",
   "id": "bcca1810-61b1-4681-af31-62da0de59611",
   "metadata": {},
   "source": [
    "The __init__() method is a constructor method for classes, which is called when an object of the class is created. It is used to initialize the instance variables of the class with the values passed as arguments while creating the object.\n",
    "\n",
    "The __init__() method is used because it allows us to create an object with initial values that we want to set, which can be accessed through the object's attributes."
   ]
  },
  {
   "cell_type": "code",
   "execution_count": 4,
   "id": "7977ef11-b0dc-4e28-b224-6ee00661a110",
   "metadata": {},
   "outputs": [
    {
     "name": "stdout",
     "output_type": "stream",
     "text": [
      "Satish\n",
      "24\n",
      "My name is Satish and I am 23 years old.\n"
     ]
    }
   ],
   "source": [
    "# Here's an example of a Python class with an __init__() method:\n",
    "class Person:\n",
    "    def __init__(self, name, age):\n",
    "        self.name = name\n",
    "        self.age = age\n",
    "    \n",
    "    def introduce(self):\n",
    "        print(f\"My name is {self.name} and I am {self.age} years old.\")\n",
    "\n",
    "# Creating objects of the Person class\n",
    "person1 = Person(\"Satish\", 23)\n",
    "person2 = Person(\"Sameet\", 24)\n",
    "\n",
    "# Accessing object attributes\n",
    "print(person1.name) # Output: \"Satish\"\n",
    "print(person2.age) # Output: 24\n",
    "\n",
    "# Calling object method\n",
    "person1.introduce() # Output: \"My name is Satish and I am 23 years old."
   ]
  },
  {
   "cell_type": "markdown",
   "id": "7a7bd2de-64a9-4db9-ba2e-7f58c95ba798",
   "metadata": {},
   "source": [
    "### Q4. Why self is used in OOPs?"
   ]
  },
  {
   "cell_type": "markdown",
   "id": "3f11c72a-f109-410e-a9b2-680b85e677ea",
   "metadata": {},
   "source": [
    "In Object-Oriented Programming (OOP), the self keyword refers to the instance of a class being accessed. It is a reference to the object that is currently being operated on.\n",
    "\n",
    "The use of self is important because it allows us to access and manipulate the instance variables and methods of an object. When a method is called on an object, self is automatically passed as the first parameter to the method. By convention, we call this parameter self, but we can use any other name."
   ]
  },
  {
   "cell_type": "markdown",
   "id": "865d7f52-44cd-4357-9564-b86a92c10c2d",
   "metadata": {},
   "source": [
    "### Q5. What is inheritance? Give an example for each type of inheritance."
   ]
  },
  {
   "cell_type": "markdown",
   "id": "e1c383ab-4a60-41c3-ae37-07b531d0a5e4",
   "metadata": {},
   "source": [
    "Inheritance is a mechanism in object-oriented programming (OOP) that allows a new class to be based on an existing class, inheriting its attributes and behaviors. Inheritance promotes code reusability and allows us to create classes that are more specialized versions of existing classes.\n",
    "\n",
    "There are four types of inheritance in Python:"
   ]
  },
  {
   "cell_type": "code",
   "execution_count": 5,
   "id": "f1e53da9-c426-41b1-b0a4-c4b21c0cc9ee",
   "metadata": {},
   "outputs": [],
   "source": [
    "# 1.Single inheritance: A class inherits from a single base class.\n",
    "class Animal:\n",
    "    def __init__(self, name):\n",
    "        self.name = name\n",
    "\n",
    "    def speak(self):\n",
    "        print(f\"{self.name} is speaking.\")\n",
    "\n",
    "class Cat(Animal):\n",
    "    def __init__(self, name, breed):\n",
    "        super().__init__(name)\n",
    "        self.breed = breed\n",
    "\n",
    "    def meow(self):\n",
    "        print(f\"{self.name} ({self.breed}) says meow.\")"
   ]
  },
  {
   "cell_type": "code",
   "execution_count": 6,
   "id": "6f4f93de-f7a8-476d-8209-87273d0e2b85",
   "metadata": {},
   "outputs": [],
   "source": [
    "# 2.Multiple inheritance: A class inherits from multiple base classes.\n",
    "class Flyer:\n",
    "    def fly(self):\n",
    "        print(\"I am flying.\")\n",
    "\n",
    "class Swimmer:\n",
    "    def swim(self):\n",
    "        print(\"I am swimming.\")\n",
    "\n",
    "class Duck(Flyer, Swimmer):\n",
    "    pass"
   ]
  },
  {
   "cell_type": "code",
   "execution_count": 7,
   "id": "2a84bbb3-d725-4376-88fb-69a7ba7aa1c3",
   "metadata": {},
   "outputs": [],
   "source": [
    "# 3.Multi-level inheritance: A class inherits from a derived class.\n",
    "class Animal:\n",
    "    def __init__(self, name):\n",
    "        self.name = name\n",
    "\n",
    "    def speak(self):\n",
    "        print(f\"{self.name} is speaking.\")\n",
    "\n",
    "class Dog(Animal):\n",
    "    def __init__(self, name, breed):\n",
    "        super().__init__(name)\n",
    "        self.breed = breed\n",
    "\n",
    "    def bark(self):\n",
    "        print(f\"{self.name} ({self.breed}) says bark.\")\n",
    "\n",
    "class Bulldog(Dog):\n",
    "    pass"
   ]
  },
  {
   "cell_type": "code",
   "execution_count": 8,
   "id": "4e533fc1-5f5b-474e-b7be-a14468aeab60",
   "metadata": {},
   "outputs": [],
   "source": [
    "# 4.Hierarchical inheritance: Multiple derived classes inherit from a single base class.\n",
    "class Vehicle:\n",
    "    def __init__(self, make, model, year):\n",
    "        self.make = make\n",
    "        self.model = model\n",
    "        self.year = year\n",
    "\n",
    "    def start_engine(self):\n",
    "        print(f\"{self.make} {self.model} ({self.year}) engine started.\")\n",
    "\n",
    "class Car(Vehicle):\n",
    "    pass\n",
    "\n",
    "class Truck(Vehicle):\n",
    "    pass"
   ]
  },
  {
   "cell_type": "code",
   "execution_count": null,
   "id": "7a5e5498-e29a-40df-8e6e-ca0a64be4fe7",
   "metadata": {},
   "outputs": [],
   "source": []
  }
 ],
 "metadata": {
  "kernelspec": {
   "display_name": "Python 3 (ipykernel)",
   "language": "python",
   "name": "python3"
  },
  "language_info": {
   "codemirror_mode": {
    "name": "ipython",
    "version": 3
   },
   "file_extension": ".py",
   "mimetype": "text/x-python",
   "name": "python",
   "nbconvert_exporter": "python",
   "pygments_lexer": "ipython3",
   "version": "3.10.8"
  }
 },
 "nbformat": 4,
 "nbformat_minor": 5
}
