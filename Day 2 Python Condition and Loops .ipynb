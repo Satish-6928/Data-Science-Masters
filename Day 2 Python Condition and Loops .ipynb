{
 "cells": [
  {
   "cell_type": "markdown",
   "id": "1027f249-acbc-43da-80a4-05cb83bc4525",
   "metadata": {},
   "source": [
    "# Satish S Karande"
   ]
  },
  {
   "cell_type": "markdown",
   "id": "d6a1211b-4c1b-4420-978f-d15862227d5a",
   "metadata": {},
   "source": [
    "### Python is dynamically typed programming language\n",
    "### Which means no need define data type before the variable as we do in other programming languages like C, C++, Java and etc"
   ]
  },
  {
   "cell_type": "code",
   "execution_count": 14,
   "id": "9e971a90-0a45-4a8d-ac69-f77197f59b40",
   "metadata": {},
   "outputs": [],
   "source": [
    "a=10"
   ]
  },
  {
   "cell_type": "markdown",
   "id": "617e6b10-3dde-4b16-81e2-e714de7b2e84",
   "metadata": {},
   "source": [
    "### In python there is no char data type, instead its included in string"
   ]
  },
  {
   "cell_type": "code",
   "execution_count": 2,
   "id": "12fbbff6-9dc3-44c6-87d4-e66e5ea471a8",
   "metadata": {},
   "outputs": [],
   "source": [
    "a='c'"
   ]
  },
  {
   "cell_type": "code",
   "execution_count": 3,
   "id": "b693dab3-a1d1-4954-987b-68de07500477",
   "metadata": {},
   "outputs": [
    {
     "data": {
      "text/plain": [
       "str"
      ]
     },
     "execution_count": 3,
     "metadata": {},
     "output_type": "execute_result"
    }
   ],
   "source": [
    "type(a)"
   ]
  },
  {
   "cell_type": "code",
   "execution_count": 4,
   "id": "da9214bb-c0a9-46d7-9a95-4152a388c331",
   "metadata": {},
   "outputs": [
    {
     "data": {
      "text/plain": [
       "123"
      ]
     },
     "execution_count": 4,
     "metadata": {},
     "output_type": "execute_result"
    }
   ],
   "source": [
    "int('123')"
   ]
  },
  {
   "cell_type": "code",
   "execution_count": 5,
   "id": "2534e91d-5b19-4a17-84a3-26a72d73081c",
   "metadata": {},
   "outputs": [
    {
     "ename": "ValueError",
     "evalue": "invalid literal for int() with base 10: 'abcd'",
     "output_type": "error",
     "traceback": [
      "\u001b[0;31m---------------------------------------------------------------------------\u001b[0m",
      "\u001b[0;31mValueError\u001b[0m                                Traceback (most recent call last)",
      "Cell \u001b[0;32mIn[5], line 1\u001b[0m\n\u001b[0;32m----> 1\u001b[0m \u001b[38;5;28;43mint\u001b[39;49m\u001b[43m(\u001b[49m\u001b[38;5;124;43m'\u001b[39;49m\u001b[38;5;124;43mabcd\u001b[39;49m\u001b[38;5;124;43m'\u001b[39;49m\u001b[43m)\u001b[49m\n",
      "\u001b[0;31mValueError\u001b[0m: invalid literal for int() with base 10: 'abcd'"
     ]
    }
   ],
   "source": [
    "int('abcd')"
   ]
  },
  {
   "cell_type": "markdown",
   "id": "4cf17081-cb81-4483-b04a-cb365a1faa58",
   "metadata": {},
   "source": [
    "### print()"
   ]
  },
  {
   "cell_type": "code",
   "execution_count": 27,
   "id": "dd4f7727-7ef4-40b2-930c-a0161d9e1615",
   "metadata": {},
   "outputs": [
    {
     "name": "stdout",
     "output_type": "stream",
     "text": [
      "Hello World\n"
     ]
    }
   ],
   "source": [
    "print(\"Hello World\")"
   ]
  },
  {
   "cell_type": "code",
   "execution_count": 7,
   "id": "fadf09ba-5413-4c72-83db-8a3c2de35b22",
   "metadata": {},
   "outputs": [
    {
     "name": "stdout",
     "output_type": "stream",
     "text": [
      "123\n"
     ]
    }
   ],
   "source": [
    "print(123)"
   ]
  },
  {
   "cell_type": "code",
   "execution_count": 8,
   "id": "70e0568d-9824-4da0-a01a-87f9e138368a",
   "metadata": {},
   "outputs": [
    {
     "name": "stdout",
     "output_type": "stream",
     "text": [
      "Hello World\n"
     ]
    }
   ],
   "source": [
    "print('Hello World')"
   ]
  },
  {
   "cell_type": "code",
   "execution_count": 17,
   "id": "83bd21cc-31b4-4b4d-a73c-dcd7af68f217",
   "metadata": {},
   "outputs": [
    {
     "name": "stdout",
     "output_type": "stream",
     "text": [
      "My age is: 22\n"
     ]
    }
   ],
   "source": [
    "age=22\n",
    "print(\"My age is:\",age)"
   ]
  },
  {
   "cell_type": "code",
   "execution_count": 13,
   "id": "e250b48e-4c39-488a-aec0-ea4ff54ba69b",
   "metadata": {},
   "outputs": [
    {
     "name": "stdout",
     "output_type": "stream",
     "text": [
      "My age is: 32\n"
     ]
    }
   ],
   "source": [
    "# f string\n",
    "print(f\"My age is: {age}\")"
   ]
  },
  {
   "cell_type": "code",
   "execution_count": 18,
   "id": "6ff6137c-f76c-40fb-ac7a-9e0759df6c71",
   "metadata": {},
   "outputs": [
    {
     "name": "stdout",
     "output_type": "stream",
     "text": [
      "My name is Satish and age is 22\n"
     ]
    }
   ],
   "source": [
    "# format()\n",
    "name=\"Satish\"\n",
    "age=22\n",
    "print(\"My name is {} and age is {}\".format(name,age))"
   ]
  },
  {
   "cell_type": "code",
   "execution_count": 19,
   "id": "bd510f5a-3e80-413d-866b-bdc8d24987c8",
   "metadata": {},
   "outputs": [
    {
     "name": "stdout",
     "output_type": "stream",
     "text": [
      "My name is 22 and age is Satish\n"
     ]
    }
   ],
   "source": [
    "print(\"My name is {} and age is {}\".format(age,name))"
   ]
  },
  {
   "cell_type": "code",
   "execution_count": 20,
   "id": "a4b07305-78e5-4c64-901f-2ed2f29be593",
   "metadata": {},
   "outputs": [
    {
     "name": "stdout",
     "output_type": "stream",
     "text": [
      "My name is Satish and age is 22\n"
     ]
    }
   ],
   "source": [
    "# placeholder\n",
    "print(\"My name is {firstname} and age is {firstage}\".format(firstage=age,firstname=name))"
   ]
  },
  {
   "cell_type": "code",
   "execution_count": 21,
   "id": "9eb9c60d-dcfc-4d3a-919c-c6e5b83298a1",
   "metadata": {},
   "outputs": [],
   "source": [
    "name=\"Satish Karande\"\n",
    "age=22\n",
    "degree=\"BE\"\n",
    "\n",
    "# \" My age is 22 and i have completed: my degree of BE with the name of Satish Karande\""
   ]
  },
  {
   "cell_type": "code",
   "execution_count": 22,
   "id": "40625bea-f0ae-423a-8ead-5e6c6499a480",
   "metadata": {},
   "outputs": [
    {
     "name": "stdout",
     "output_type": "stream",
     "text": [
      "My age is 22 and i have completed: my degree of BE with the name of Satish Karande\n"
     ]
    }
   ],
   "source": [
    "print(\"My age is {} and i have completed: my degree of {} with the name of {}\".format(age,degree,name))"
   ]
  },
  {
   "cell_type": "code",
   "execution_count": 23,
   "id": "c841e545-5d89-403d-8a40-5f46cce6e885",
   "metadata": {},
   "outputs": [
    {
     "name": "stdout",
     "output_type": "stream",
     "text": [
      "My age is 22 and i have completed: my degree of BE with the name of Satish Karande\n"
     ]
    }
   ],
   "source": [
    "print(f\"My age is {age} and i have completed: my degree of {degree} with the name of {name}\")"
   ]
  },
  {
   "cell_type": "markdown",
   "id": "51339415-4160-4246-af5b-55fe111b0551",
   "metadata": {},
   "source": [
    "## Control Flow\n",
    "### Decision Making statements\n",
    "   * It is kind of making decision during occurred situation of program execution and action can be taken according to specified conditions.\n",
    "   * Structure of decision making evaluate several expressions that provide True or False as a result.\n",
    "   * It is up to you to decide which type of action want to take and execute the statements based upon True and False.\n",
    "   \n",
    "**These are several topics of decision making which going to be discussed below:**\n",
    "   1. **if**\n",
    "   2. **if else** \n",
    "   3. **if elif else**\n",
    "   4. **Nested if**\n",
    "   5. **Single Statement Suites**"
   ]
  },
  {
   "cell_type": "code",
   "execution_count": 24,
   "id": "21fa06d5-2659-49e9-8c6c-0e1a76cc573f",
   "metadata": {},
   "outputs": [
    {
     "name": "stdout",
     "output_type": "stream",
     "text": [
      "You are eligible to vote\n"
     ]
    }
   ],
   "source": [
    "# If Statements\n",
    "age=18\n",
    "if age>=18:\n",
    "    print(\"You are eligible to vote\")"
   ]
  },
  {
   "cell_type": "code",
   "execution_count": 25,
   "id": "8dcd857e-ce45-4935-b80f-45b1ee62803b",
   "metadata": {},
   "outputs": [
    {
     "name": "stdout",
     "output_type": "stream",
     "text": [
      "You are not eligible to vote\n"
     ]
    }
   ],
   "source": [
    "## If Statements\n",
    "age=17\n",
    "if age<18:\n",
    "    print(\"You are not eligible to vote\")"
   ]
  },
  {
   "cell_type": "code",
   "execution_count": 26,
   "id": "c67056d6-a61b-46ec-960c-32e1a8120fbd",
   "metadata": {},
   "outputs": [
    {
     "data": {
      "text/plain": [
       "True"
      ]
     },
     "execution_count": 26,
     "metadata": {},
     "output_type": "execute_result"
    }
   ],
   "source": [
    "18<=18"
   ]
  },
  {
   "cell_type": "markdown",
   "id": "037505ef-5a71-4c21-8f6e-177c418f617a",
   "metadata": {},
   "source": [
    "### Taking input from the user"
   ]
  },
  {
   "cell_type": "markdown",
   "id": "e7b9146a-6163-4984-aa54-e74d0912905e",
   "metadata": {},
   "source": [
    "### By default input() function take string as input"
   ]
  },
  {
   "cell_type": "code",
   "execution_count": 27,
   "id": "5e75d089-42f3-4a33-bc87-164ef45746f0",
   "metadata": {},
   "outputs": [
    {
     "name": "stdin",
     "output_type": "stream",
     "text": [
      "Enter the name Satish Karande\n"
     ]
    }
   ],
   "source": [
    "name=input(\"Enter the name\")"
   ]
  },
  {
   "cell_type": "code",
   "execution_count": 28,
   "id": "3cc379bf-785a-4a16-9c53-1bfb722b2ca1",
   "metadata": {},
   "outputs": [
    {
     "data": {
      "text/plain": [
       "'Satish Karande'"
      ]
     },
     "execution_count": 28,
     "metadata": {},
     "output_type": "execute_result"
    }
   ],
   "source": [
    "name"
   ]
  },
  {
   "cell_type": "code",
   "execution_count": 32,
   "id": "50bd3a20-8e98-4e26-afa0-e995189bdb7d",
   "metadata": {},
   "outputs": [
    {
     "name": "stdin",
     "output_type": "stream",
     "text": [
      "Enter your age 22\n"
     ]
    }
   ],
   "source": [
    "# Typecasting of string to int\n",
    "age=int(input(\"Enter your age\"))"
   ]
  },
  {
   "cell_type": "code",
   "execution_count": 33,
   "id": "e29d6b6c-dc90-4193-a6ab-23440487e092",
   "metadata": {},
   "outputs": [
    {
     "data": {
      "text/plain": [
       "int"
      ]
     },
     "execution_count": 33,
     "metadata": {},
     "output_type": "execute_result"
    }
   ],
   "source": [
    "type(age)"
   ]
  },
  {
   "cell_type": "code",
   "execution_count": 34,
   "id": "c9f25139-0ed4-4f6a-b65b-42574870029a",
   "metadata": {},
   "outputs": [],
   "source": [
    "# Task\n",
    "# Take a input of age\n",
    "# check whether age >=18 and age<=45\n",
    "# display a message you are young blood"
   ]
  },
  {
   "cell_type": "code",
   "execution_count": 37,
   "id": "6b58a18c-a24c-4e87-b58e-21a470b2cccc",
   "metadata": {},
   "outputs": [
    {
     "name": "stdin",
     "output_type": "stream",
     "text": [
      "Enter your age 22\n"
     ]
    },
    {
     "name": "stdout",
     "output_type": "stream",
     "text": [
      "You are young blood\n"
     ]
    }
   ],
   "source": [
    "age = int(input(\"Enter your age\"))\n",
    "if age>=18 and age<=45:\n",
    "    print(\"You are young blood\")"
   ]
  },
  {
   "cell_type": "code",
   "execution_count": 39,
   "id": "e3e2bf14-d052-4440-a1a6-ca220498c7f2",
   "metadata": {},
   "outputs": [
    {
     "data": {
      "text/plain": [
       "False"
      ]
     },
     "execution_count": 39,
     "metadata": {},
     "output_type": "execute_result"
    }
   ],
   "source": [
    "True and False"
   ]
  },
  {
   "cell_type": "code",
   "execution_count": 40,
   "id": "ce0d69b2-f519-4010-800e-8c14fbebb4d0",
   "metadata": {},
   "outputs": [
    {
     "data": {
      "text/plain": [
       "True"
      ]
     },
     "execution_count": 40,
     "metadata": {},
     "output_type": "execute_result"
    }
   ],
   "source": [
    "22>=18 and 22<=45"
   ]
  },
  {
   "cell_type": "code",
   "execution_count": 41,
   "id": "65bb2146-3b16-4d0c-8314-73c2a5d3552d",
   "metadata": {},
   "outputs": [
    {
     "data": {
      "text/plain": [
       "True"
      ]
     },
     "execution_count": 41,
     "metadata": {},
     "output_type": "execute_result"
    }
   ],
   "source": [
    "22<=42"
   ]
  },
  {
   "cell_type": "code",
   "execution_count": 42,
   "id": "283f842c-24ed-4ded-ab4c-b0108d93df83",
   "metadata": {},
   "outputs": [
    {
     "name": "stdin",
     "output_type": "stream",
     "text": [
      "Enter the age 55\n"
     ]
    }
   ],
   "source": [
    "age=int(input(\"Enter the age\"))\n",
    "if  age>=18 and age <=45:\n",
    "    print(\"You are young blood\")"
   ]
  },
  {
   "cell_type": "code",
   "execution_count": 43,
   "id": "eb3a4bfb-54cb-400e-88ee-c5deca913146",
   "metadata": {},
   "outputs": [
    {
     "name": "stdin",
     "output_type": "stream",
     "text": [
      "Enter the age 46\n"
     ]
    },
    {
     "name": "stdout",
     "output_type": "stream",
     "text": [
      "Thank you we will let you know\n"
     ]
    }
   ],
   "source": [
    "## if else satetements\n",
    "age=int(input(\"Enter the age\"))\n",
    "if  age>=18 and age <=45:\n",
    "    print(\"You are young blood\")\n",
    "else:\n",
    "    print(\"Thank you we will let you know\")"
   ]
  },
  {
   "cell_type": "code",
   "execution_count": 44,
   "id": "de1c96e8-f315-4fab-a051-03e0a50384a0",
   "metadata": {},
   "outputs": [],
   "source": [
    "## mall - input the product price\n",
    "## product >1000 rs 20% off\n",
    "## print the product price after removing the discount\n",
    "## product <=1000 rs 30% off\n",
    "## print the product price after removing the discount"
   ]
  },
  {
   "cell_type": "code",
   "execution_count": 48,
   "id": "d3e98bbc-8e0d-41b5-a760-cb4751244c0f",
   "metadata": {},
   "outputs": [
    {
     "name": "stdin",
     "output_type": "stream",
     "text": [
      "Enter the product price 900\n"
     ]
    },
    {
     "name": "stdout",
     "output_type": "stream",
     "text": [
      "The price of the product is : 630.0\n"
     ]
    }
   ],
   "source": [
    "product_price = int(input(\"Enter the product price\"))\n",
    "if product_price > 1000:\n",
    "    product_price = product_price * 0.8\n",
    "elif product_price <= 1000:\n",
    "    product_price = product_price * 0.7\n",
    "print(\"The price of the product is :\",product_price)"
   ]
  },
  {
   "cell_type": "markdown",
   "id": "e447fb67-69bc-4bd4-8f4a-c629e009ba6a",
   "metadata": {},
   "source": [
    "### OR"
   ]
  },
  {
   "cell_type": "code",
   "execution_count": 51,
   "id": "cae3f380-2f96-4d67-9f4b-0871f59fc917",
   "metadata": {},
   "outputs": [
    {
     "name": "stdin",
     "output_type": "stream",
     "text": [
      "Enter the price 5000\n"
     ]
    },
    {
     "name": "stdout",
     "output_type": "stream",
     "text": [
      "The price of the product is 4000.0\n"
     ]
    }
   ],
   "source": [
    "product_price=int(input(\"Enter the price\"))\n",
    "if product_price>1000:\n",
    "    print(\"The price of the product is {}\".format(product_price*0.8))\n",
    "else:\n",
    "    print(\"The price of the product is {}\".format(product_price*0.7))"
   ]
  },
  {
   "cell_type": "code",
   "execution_count": 52,
   "id": "d2959de0-ce8b-491f-8e5a-d269f4a86e64",
   "metadata": {},
   "outputs": [
    {
     "data": {
      "text/plain": [
       "1000"
      ]
     },
     "execution_count": 52,
     "metadata": {},
     "output_type": "execute_result"
    }
   ],
   "source": [
    "int((20/100)*5000)"
   ]
  },
  {
   "cell_type": "markdown",
   "id": "d10840f1-a0fc-4d18-b8c1-8ef949afcb56",
   "metadata": {},
   "source": [
    "### OR"
   ]
  },
  {
   "cell_type": "code",
   "execution_count": 53,
   "id": "f28759c4-7d53-4277-8382-5f84405640cf",
   "metadata": {},
   "outputs": [
    {
     "name": "stdin",
     "output_type": "stream",
     "text": [
      "Enter the price 2000\n"
     ]
    },
    {
     "name": "stdout",
     "output_type": "stream",
     "text": [
      "The price of the product is 1600.0\n"
     ]
    }
   ],
   "source": [
    "product_price=int(input(\"Enter the price\"))\n",
    "if product_price>1000:\n",
    "    print(f\"The price of the product is {product_price*0.8}\")\n",
    "else:\n",
    "    print(\"The price of the product is {}\".format(product_price*0.7))"
   ]
  },
  {
   "cell_type": "code",
   "execution_count": null,
   "id": "566ad314-b292-47df-bac7-e5b8b4b9f2b3",
   "metadata": {},
   "outputs": [],
   "source": [
    "## mall - input the product price\n",
    "## product >3000 rs 20% off\n",
    "## price is ==4000 you get a trip to Goa\n",
    "## print the product price after removing the discount\n",
    "## product >=2000 rs and <=3000 30% off\n",
    "## print the product price after removing the discount\n",
    "## price ==2999  u will get adiitional gift\n",
    "## product 100 rs and <=2000 40% off\n",
    "## print the product price after removing the discount"
   ]
  },
  {
   "cell_type": "code",
   "execution_count": 54,
   "id": "f5a76f5b-2a4a-4e21-ad95-c981b2ce03d1",
   "metadata": {},
   "outputs": [
    {
     "name": "stdin",
     "output_type": "stream",
     "text": [
      "Enter the price 2000\n"
     ]
    },
    {
     "name": "stdout",
     "output_type": "stream",
     "text": [
      "The price of the product is 1400.0\n"
     ]
    }
   ],
   "source": [
    "product_price=int(input(\"Enter the price\"))\n",
    "if product_price>3000:\n",
    "    if product_price==4000:\n",
    "        print(\"Congratulations you get a Goa Trip\")\n",
    "    print(f\"The price of the product is {product_price*0.8}\")\n",
    "elif product_price>=2000 and product_price<=3000:\n",
    "    if product_price==2999:\n",
    "        print(\"Congratulations you get an additional gift\")\n",
    "    print(f\"The price of the product is {product_price*0.7}\")\n",
    "elif product_price>=100 and product_price<2000:\n",
    "    print(f\"The price of the product is {product_price*0.6}\")\n",
    "else:\n",
    "    print(\"Lets drink tea\")\n",
    "    print(\"I will also be there\")\n",
    "    "
   ]
  },
  {
   "cell_type": "code",
   "execution_count": 55,
   "id": "fa450496-a013-4a8a-994e-e93ceb5335e9",
   "metadata": {},
   "outputs": [
    {
     "data": {
      "text/plain": [
       "True"
      ]
     },
     "execution_count": 55,
     "metadata": {},
     "output_type": "execute_result"
    }
   ],
   "source": [
    "# Comparision operator\n",
    "True==True"
   ]
  },
  {
   "cell_type": "code",
   "execution_count": 56,
   "id": "24d70ba3-174c-4ab1-b524-b6fb4c937a3d",
   "metadata": {},
   "outputs": [
    {
     "name": "stdin",
     "output_type": "stream",
     "text": [
      "Enter the number 700\n"
     ]
    },
    {
     "name": "stdout",
     "output_type": "stream",
     "text": [
      "Value is less than equal to 999\n"
     ]
    }
   ],
   "source": [
    "# Single Statement Suites\n",
    "val=int(input('Enter the number'))\n",
    "if(val<=999):print(\"Value is less than equal to 999\")\n",
    "else:print(\"Go Home\")"
   ]
  },
  {
   "cell_type": "markdown",
   "id": "38e18955-1f9e-4b5a-9674-16e5602eaf98",
   "metadata": {},
   "source": [
    "## Loops statements\n",
    "1. while loop\n",
    "2. for loop\n",
    "3. nested loops\n",
    "4. Loop control(break,continue,pass)"
   ]
  },
  {
   "cell_type": "markdown",
   "id": "28ba9ff7-6d2b-4a45-b452-b669a6e8a714",
   "metadata": {},
   "source": [
    "### while loop, while-else"
   ]
  },
  {
   "cell_type": "code",
   "execution_count": 57,
   "id": "5af77a71-ea79-4120-88ba-8fdb5c46382c",
   "metadata": {},
   "outputs": [
    {
     "name": "stdout",
     "output_type": "stream",
     "text": [
      "25\n",
      "26\n",
      "27\n",
      "28\n",
      "29\n",
      "30\n",
      "31\n",
      "32\n",
      "33\n",
      "34\n",
      "35\n",
      "36\n",
      "37\n",
      "38\n",
      "39\n",
      "40\n",
      "41\n",
      "42\n",
      "43\n",
      "44\n",
      "45\n",
      "46\n",
      "47\n",
      "48\n",
      "49\n",
      "50\n",
      "51\n",
      "52\n",
      "53\n",
      "54\n",
      "55\n",
      "56\n",
      "57\n",
      "58\n",
      "59\n",
      "60\n",
      "Its time for retirement\n"
     ]
    }
   ],
   "source": [
    "joining_age=25\n",
    "while joining_age<=60:\n",
    "    print(joining_age)\n",
    "    joining_age=joining_age+1\n",
    "    \n",
    "else:\n",
    "    print(\"Its time for retirement\")\n",
    "\n"
   ]
  },
  {
   "cell_type": "code",
   "execution_count": 58,
   "id": "3ac6e35d-baec-4eb0-8b90-5ba77de7d4fe",
   "metadata": {},
   "outputs": [
    {
     "name": "stdout",
     "output_type": "stream",
     "text": [
      "1000\n",
      "900\n",
      "800\n",
      "700\n",
      "600\n",
      "500\n",
      "400\n",
      "300\n",
      "200\n",
      "100\n",
      "Add money to the ATM machine\n",
      "Hello All\n"
     ]
    }
   ],
   "source": [
    "### Atm machine with 1000 rs\n",
    "total_amount=1000\n",
    "while total_amount!=0:\n",
    "    print(total_amount)\n",
    "    total_amount=total_amount-100\n",
    "else:\n",
    "    print(\"Add money to the ATM machine\")\n",
    "    \n",
    "print(\"Hello All\")\n",
    "    "
   ]
  },
  {
   "cell_type": "markdown",
   "id": "b2a9ea39-c927-4717-b4c6-bbc12da4f82a",
   "metadata": {},
   "source": [
    "## For Loop"
   ]
  },
  {
   "cell_type": "code",
   "execution_count": 71,
   "id": "be6ed02f-ed0d-4296-905c-26358227e62b",
   "metadata": {},
   "outputs": [],
   "source": [
    "# List\n",
    "lst=[\"Satish\",1,2,3,4,\"apple\",\"banana\"]"
   ]
  },
  {
   "cell_type": "code",
   "execution_count": 72,
   "id": "6937007c-1411-4ad9-9796-7df9fdf62f55",
   "metadata": {},
   "outputs": [
    {
     "data": {
      "text/plain": [
       "list"
      ]
     },
     "execution_count": 72,
     "metadata": {},
     "output_type": "execute_result"
    }
   ],
   "source": [
    "type(lst)"
   ]
  },
  {
   "cell_type": "code",
   "execution_count": 73,
   "id": "bc0a3c5d-287b-433f-90f7-63301ca68fe5",
   "metadata": {},
   "outputs": [
    {
     "data": {
      "text/plain": [
       "'apple'"
      ]
     },
     "execution_count": 73,
     "metadata": {},
     "output_type": "execute_result"
    }
   ],
   "source": [
    "lst[5]"
   ]
  },
  {
   "cell_type": "code",
   "execution_count": 74,
   "id": "81f419f4-2335-415b-b209-e914865bae85",
   "metadata": {},
   "outputs": [
    {
     "data": {
      "text/plain": [
       "['Satish', 1, 2, 3, 4, 'apple', 'banana']"
      ]
     },
     "execution_count": 74,
     "metadata": {},
     "output_type": "execute_result"
    }
   ],
   "source": [
    "lst"
   ]
  },
  {
   "cell_type": "code",
   "execution_count": 75,
   "id": "bea79ecb-8f33-4829-9b78-bb116e7cbfb1",
   "metadata": {},
   "outputs": [
    {
     "name": "stdout",
     "output_type": "stream",
     "text": [
      "Satish\n",
      "1\n",
      "2\n",
      "3\n",
      "4\n",
      "apple\n",
      "banana\n"
     ]
    }
   ],
   "source": [
    "for x in lst:\n",
    "    print(x)"
   ]
  },
  {
   "cell_type": "code",
   "execution_count": 76,
   "id": "a676b171-a273-499f-89cd-0ba1e5d9882f",
   "metadata": {},
   "outputs": [],
   "source": [
    "fruits_list = [\"Mango\",\"Cherry\",\"Apple\",\"Papaya\",\"Banana\"]"
   ]
  },
  {
   "cell_type": "code",
   "execution_count": 77,
   "id": "f0d5c558-d765-4ff1-8a65-1229a62445c8",
   "metadata": {},
   "outputs": [
    {
     "name": "stdout",
     "output_type": "stream",
     "text": [
      "Mango\n",
      "Cherry\n",
      "The fruit is cherry\n",
      "Apple\n",
      "Papaya\n",
      "Banana\n"
     ]
    }
   ],
   "source": [
    "for a in fruits_list:\n",
    "    print(a)\n",
    "    if a==\"Cherry\":\n",
    "        print(\"The fruit is cherry\")      "
   ]
  },
  {
   "cell_type": "code",
   "execution_count": 78,
   "id": "f59824fd-26c1-498e-88e9-61a7918ff087",
   "metadata": {},
   "outputs": [
    {
     "name": "stdout",
     "output_type": "stream",
     "text": [
      "m\n",
      "a\n",
      "n\n",
      "g\n",
      "o\n"
     ]
    }
   ],
   "source": [
    "fruit='mango'\n",
    "for x in fruit:\n",
    "    print(x)"
   ]
  },
  {
   "cell_type": "code",
   "execution_count": 79,
   "id": "f6b700b0-f87a-421f-b749-c2bff589fd58",
   "metadata": {},
   "outputs": [
    {
     "data": {
      "text/plain": [
       "'n'"
      ]
     },
     "execution_count": 79,
     "metadata": {},
     "output_type": "execute_result"
    }
   ],
   "source": [
    "fruit[2]"
   ]
  },
  {
   "cell_type": "code",
   "execution_count": 3,
   "id": "a9a34800-2a3e-45de-b2e6-a56754bf5d02",
   "metadata": {},
   "outputs": [
    {
     "name": "stdout",
     "output_type": "stream",
     "text": [
      "1\n",
      "2\n",
      "3\n",
      "4\n",
      "5\n",
      "6\n",
      "7\n",
      "8\n",
      "9\n"
     ]
    }
   ],
   "source": [
    "## range\n",
    "for i in range(1,10): #range(start,stop,step)\n",
    "    print(i)"
   ]
  },
  {
   "cell_type": "code",
   "execution_count": 15,
   "id": "278a477f-3c86-4d52-813e-33badccc6058",
   "metadata": {},
   "outputs": [
    {
     "name": "stdout",
     "output_type": "stream",
     "text": [
      "0\n",
      "2\n",
      "4\n",
      "6\n"
     ]
    }
   ],
   "source": [
    "for i in range(0,7,2):\n",
    "    print(i)"
   ]
  },
  {
   "cell_type": "code",
   "execution_count": 16,
   "id": "cd16d3c6-8d2f-4aeb-8fa2-3f863db793fb",
   "metadata": {},
   "outputs": [
    {
     "name": "stdout",
     "output_type": "stream",
     "text": [
      "*\n",
      "**\n",
      "***\n",
      "****\n",
      "*****\n",
      "******\n",
      "*******\n"
     ]
    }
   ],
   "source": [
    "## Nested loops\n",
    "n=7\n",
    "\n",
    "for i in range(0,n):\n",
    "    for j in range(0,i+1):\n",
    "        print(\"*\",end=\"\")\n",
    "    print(\"\\r\") # Or we can use prrint()"
   ]
  },
  {
   "cell_type": "code",
   "execution_count": 17,
   "id": "3ba5f283-3eb0-407e-a3b1-8a30ec0529e1",
   "metadata": {},
   "outputs": [],
   "source": [
    "## Loop controls\n",
    "# Break and continue\n",
    "fruits_list = [\"Mango\",\"Cherry\",\"Apple\",\"Papaya\",\"Banana\"]"
   ]
  },
  {
   "cell_type": "code",
   "execution_count": 18,
   "id": "8ac9ff67-6736-4a9b-8a32-09439a52f083",
   "metadata": {},
   "outputs": [
    {
     "name": "stdout",
     "output_type": "stream",
     "text": [
      "Mango\n",
      "Cherry\n",
      "The fruit is apple\n"
     ]
    }
   ],
   "source": [
    "# break\n",
    "for i in fruits_list:\n",
    "    if i==\"Apple\":\n",
    "        print(\"The fruit is apple\")\n",
    "        break\n",
    "    print(i)"
   ]
  },
  {
   "cell_type": "code",
   "execution_count": 19,
   "id": "c4da2082-960e-497a-80ee-fe65f9882375",
   "metadata": {},
   "outputs": [
    {
     "name": "stdout",
     "output_type": "stream",
     "text": [
      "Mango\n",
      "Cherry\n",
      "The fruit is apple\n",
      "Apple\n",
      "Papaya\n",
      "Banana\n"
     ]
    }
   ],
   "source": [
    "# pass\n",
    "for i in fruits_list:\n",
    "    if i==\"Apple\":\n",
    "        print(\"The fruit is apple\")\n",
    "        pass\n",
    "    print(i)"
   ]
  },
  {
   "cell_type": "code",
   "execution_count": 20,
   "id": "d398b369-92ea-49a2-bda0-e0d5cac82d97",
   "metadata": {},
   "outputs": [
    {
     "name": "stdout",
     "output_type": "stream",
     "text": [
      "Mango\n",
      "Cherry\n",
      "The fruit is apple\n",
      "Papaya\n",
      "Banana\n"
     ]
    }
   ],
   "source": [
    "##continue\n",
    "for i in fruits_list:\n",
    "    if i==\"Apple\":\n",
    "        print(\"The fruit is apple\")\n",
    "        continue\n",
    "    print(i)"
   ]
  },
  {
   "cell_type": "code",
   "execution_count": 21,
   "id": "0455237c-9c6a-483f-a051-77df7016e135",
   "metadata": {},
   "outputs": [
    {
     "name": "stdin",
     "output_type": "stream",
     "text": [
      "Enter number of rows:  4\n"
     ]
    },
    {
     "name": "stdout",
     "output_type": "stream",
     "text": [
      "      * \n",
      "    * * * \n",
      "  * * * * * \n",
      "* * * * * * * \n"
     ]
    }
   ],
   "source": [
    "rows = int(input(\"Enter number of rows: \"))\n",
    "\n",
    "k = 0\n",
    "\n",
    "for i in range(1, rows+1):\n",
    "    for space in range(1, (rows-i)+1):\n",
    "        print(end=\"  \")\n",
    "   \n",
    "    while k!=(2*i-1):\n",
    "        print(\"* \", end=\"\")\n",
    "        k += 1\n",
    "   \n",
    "    k = 0\n",
    "    print()"
   ]
  }
 ],
 "metadata": {
  "kernelspec": {
   "display_name": "Python 3 (ipykernel)",
   "language": "python",
   "name": "python3"
  },
  "language_info": {
   "codemirror_mode": {
    "name": "ipython",
    "version": 3
   },
   "file_extension": ".py",
   "mimetype": "text/x-python",
   "name": "python",
   "nbconvert_exporter": "python",
   "pygments_lexer": "ipython3",
   "version": "3.10.8"
  }
 },
 "nbformat": 4,
 "nbformat_minor": 5
}
