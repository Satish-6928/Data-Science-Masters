{
 "cells": [
  {
   "cell_type": "markdown",
   "id": "ec4eed8c-f279-444b-b45e-8a55a30f3607",
   "metadata": {},
   "source": [
    "### Satish S Karande"
   ]
  },
  {
   "cell_type": "markdown",
   "id": "d2bb5d7e-ef6c-40cb-8ca5-0e200ec44894",
   "metadata": {},
   "source": [
    "\"OOP's\" stands for Object-Oriented Programming system."
   ]
  },
  {
   "cell_type": "code",
   "execution_count": 4,
   "id": "a9248897-d385-4cde-860e-05b5fe46bbbc",
   "metadata": {},
   "outputs": [],
   "source": [
    "a = 1"
   ]
  },
  {
   "cell_type": "code",
   "execution_count": 5,
   "id": "c0da6baa-44a5-4459-9552-dca7e26b64cc",
   "metadata": {},
   "outputs": [
    {
     "name": "stdout",
     "output_type": "stream",
     "text": [
      "<class 'int'>\n"
     ]
    }
   ],
   "source": [
    "print(type(a))"
   ]
  },
  {
   "cell_type": "code",
   "execution_count": 6,
   "id": "870a8ef9-2971-4ca4-87e5-d1e7ce4a785e",
   "metadata": {},
   "outputs": [
    {
     "name": "stdout",
     "output_type": "stream",
     "text": [
      "<class 'str'>\n"
     ]
    }
   ],
   "source": [
    "print(type(\"pwskills\"))"
   ]
  },
  {
   "cell_type": "code",
   "execution_count": 7,
   "id": "f417a5c4-0e4a-4236-82fc-39a82eb1acff",
   "metadata": {},
   "outputs": [
    {
     "ename": "SyntaxError",
     "evalue": "incomplete input (3527747674.py, line 1)",
     "output_type": "error",
     "traceback": [
      "\u001b[0;36m  Cell \u001b[0;32mIn[7], line 1\u001b[0;36m\u001b[0m\n\u001b[0;31m    class test:\u001b[0m\n\u001b[0m               ^\u001b[0m\n\u001b[0;31mSyntaxError\u001b[0m\u001b[0;31m:\u001b[0m incomplete input\n"
     ]
    }
   ],
   "source": [
    "class test:"
   ]
  },
  {
   "cell_type": "code",
   "execution_count": 8,
   "id": "b22a5d8b-44fe-4e68-8364-850ff1472e96",
   "metadata": {},
   "outputs": [],
   "source": [
    "class test:\n",
    "    pass"
   ]
  },
  {
   "cell_type": "code",
   "execution_count": 9,
   "id": "65e4140a-6669-4acb-8d41-f04acab7e0d3",
   "metadata": {},
   "outputs": [],
   "source": [
    "a = test()"
   ]
  },
  {
   "cell_type": "code",
   "execution_count": 10,
   "id": "047a429f-5f7a-4602-bd68-a8dcd6733c64",
   "metadata": {},
   "outputs": [
    {
     "data": {
      "text/plain": [
       "__main__.test"
      ]
     },
     "execution_count": 10,
     "metadata": {},
     "output_type": "execute_result"
    }
   ],
   "source": [
    "type(a)"
   ]
  },
  {
   "cell_type": "code",
   "execution_count": 11,
   "id": "757f60eb-f3b2-4cd4-9e83-63aa3f04941f",
   "metadata": {},
   "outputs": [
    {
     "name": "stdout",
     "output_type": "stream",
     "text": [
      "<class '__main__.test'>\n"
     ]
    }
   ],
   "source": [
    "print(type(a))"
   ]
  },
  {
   "cell_type": "code",
   "execution_count": 12,
   "id": "c31e34d1-a5f3-4758-8bee-d8b4ed82d9b8",
   "metadata": {},
   "outputs": [],
   "source": [
    "class pwskills:\n",
    "    \n",
    "    def welcome_msg():\n",
    "        print(\"Welcome to Pwskills\")"
   ]
  },
  {
   "cell_type": "code",
   "execution_count": 13,
   "id": "81c3be04-c227-4675-80be-13ee458cc33a",
   "metadata": {},
   "outputs": [],
   "source": [
    "Satish = pwskills()"
   ]
  },
  {
   "cell_type": "code",
   "execution_count": 14,
   "id": "a879a9d4-7eb0-4e8a-9de7-8eea866cc69e",
   "metadata": {},
   "outputs": [
    {
     "ename": "TypeError",
     "evalue": "pwskills.welcome_msg() takes 0 positional arguments but 1 was given",
     "output_type": "error",
     "traceback": [
      "\u001b[0;31m---------------------------------------------------------------------------\u001b[0m",
      "\u001b[0;31mTypeError\u001b[0m                                 Traceback (most recent call last)",
      "Cell \u001b[0;32mIn[14], line 1\u001b[0m\n\u001b[0;32m----> 1\u001b[0m \u001b[43mSatish\u001b[49m\u001b[38;5;241;43m.\u001b[39;49m\u001b[43mwelcome_msg\u001b[49m\u001b[43m(\u001b[49m\u001b[43m)\u001b[49m\n",
      "\u001b[0;31mTypeError\u001b[0m: pwskills.welcome_msg() takes 0 positional arguments but 1 was given"
     ]
    }
   ],
   "source": [
    "Satish.welcome_msg()"
   ]
  },
  {
   "cell_type": "code",
   "execution_count": 15,
   "id": "09dde3f5-12da-419d-9d3d-86a50e689035",
   "metadata": {},
   "outputs": [],
   "source": [
    "class pwskills:\n",
    "    \n",
    "    def welcome_msg(self):\n",
    "        print(\"Welcome to Pwskills\")"
   ]
  },
  {
   "cell_type": "code",
   "execution_count": 16,
   "id": "6389493c-6835-46f3-9239-9e18fc7413b4",
   "metadata": {},
   "outputs": [],
   "source": [
    "Satish = pwskills()"
   ]
  },
  {
   "cell_type": "code",
   "execution_count": 17,
   "id": "52048fe3-f8c6-42c0-9d1e-47fd3890f0f6",
   "metadata": {},
   "outputs": [
    {
     "name": "stdout",
     "output_type": "stream",
     "text": [
      "Welcome to Pwskills\n"
     ]
    }
   ],
   "source": [
    "Satish.welcome_msg()"
   ]
  },
  {
   "cell_type": "code",
   "execution_count": 18,
   "id": "c190dd7c-2bb0-4045-9e3e-3c28f2e90bea",
   "metadata": {},
   "outputs": [],
   "source": [
    "Sai = pwskills()"
   ]
  },
  {
   "cell_type": "code",
   "execution_count": 19,
   "id": "77dc5028-a2c5-4146-9ed0-91f2aca3f1fe",
   "metadata": {},
   "outputs": [
    {
     "name": "stdout",
     "output_type": "stream",
     "text": [
      "Welcome to Pwskills\n"
     ]
    }
   ],
   "source": [
    "Sai.welcome_msg()"
   ]
  },
  {
   "cell_type": "code",
   "execution_count": 20,
   "id": "7f107a8b-45ad-4ae6-8ab5-2b56a24fe6d1",
   "metadata": {},
   "outputs": [],
   "source": [
    "class pwskills1:\n",
    "    \n",
    "    def __init__(self, phone_number, email_id, student_id):\n",
    "        \n",
    "        self.phone_number = phone_number\n",
    "        self.email_id = email_id\n",
    "        self.student_id = student_id\n",
    "    \n",
    "    def return_student_details(self):\n",
    "        return self.phone_number,  self.email_id, self.student_id"
   ]
  },
  {
   "cell_type": "code",
   "execution_count": 21,
   "id": "1ad77c8a-b08b-4124-902e-2a200f04ff2d",
   "metadata": {},
   "outputs": [
    {
     "ename": "TypeError",
     "evalue": "pwskills1.__init__() missing 3 required positional arguments: 'phone_number', 'email_id', and 'student_id'",
     "output_type": "error",
     "traceback": [
      "\u001b[0;31m---------------------------------------------------------------------------\u001b[0m",
      "\u001b[0;31mTypeError\u001b[0m                                 Traceback (most recent call last)",
      "Cell \u001b[0;32mIn[21], line 1\u001b[0m\n\u001b[0;32m----> 1\u001b[0m Satish \u001b[38;5;241m=\u001b[39m \u001b[43mpwskills1\u001b[49m\u001b[43m(\u001b[49m\u001b[43m)\u001b[49m\n",
      "\u001b[0;31mTypeError\u001b[0m: pwskills1.__init__() missing 3 required positional arguments: 'phone_number', 'email_id', and 'student_id'"
     ]
    }
   ],
   "source": [
    "Satish = pwskills1()"
   ]
  },
  {
   "cell_type": "code",
   "execution_count": 22,
   "id": "091000fd-df3b-4108-97d4-92fa45d6d8fc",
   "metadata": {},
   "outputs": [],
   "source": [
    "Satish = pwskills1(953875859, \"satish@gamail.com\", 101)"
   ]
  },
  {
   "cell_type": "code",
   "execution_count": 23,
   "id": "1044353a-01e5-42fa-be76-90bb4f16457b",
   "metadata": {},
   "outputs": [
    {
     "data": {
      "text/plain": [
       "953875859"
      ]
     },
     "execution_count": 23,
     "metadata": {},
     "output_type": "execute_result"
    }
   ],
   "source": [
    "Satish.phone_number"
   ]
  },
  {
   "cell_type": "code",
   "execution_count": 24,
   "id": "407a479d-6489-411a-854d-1d19f55e9cc4",
   "metadata": {},
   "outputs": [
    {
     "data": {
      "text/plain": [
       "'satish@gamail.com'"
      ]
     },
     "execution_count": 24,
     "metadata": {},
     "output_type": "execute_result"
    }
   ],
   "source": [
    "Satish.email_id"
   ]
  },
  {
   "cell_type": "code",
   "execution_count": 25,
   "id": "7f9efed3-07a9-4a58-aa9b-cc1b5c2fb913",
   "metadata": {},
   "outputs": [
    {
     "data": {
      "text/plain": [
       "101"
      ]
     },
     "execution_count": 25,
     "metadata": {},
     "output_type": "execute_result"
    }
   ],
   "source": [
    "Satish.student_id"
   ]
  },
  {
   "cell_type": "code",
   "execution_count": 26,
   "id": "955b6571-1e40-4aa1-b0f3-64bac5c60b34",
   "metadata": {},
   "outputs": [
    {
     "data": {
      "text/plain": [
       "(953875859, 'satish@gamail.com', 101)"
      ]
     },
     "execution_count": 26,
     "metadata": {},
     "output_type": "execute_result"
    }
   ],
   "source": [
    "Satish.return_student_details()"
   ]
  },
  {
   "cell_type": "code",
   "execution_count": 27,
   "id": "1b06736c-a221-4b73-b5bb-e3fd597d8965",
   "metadata": {},
   "outputs": [],
   "source": [
    "Sameet = pwskills1(888499546, \"sameet@gmail.com\", 102)"
   ]
  },
  {
   "cell_type": "code",
   "execution_count": 28,
   "id": "1977cb32-bce4-4d54-96a7-fbf879244078",
   "metadata": {},
   "outputs": [
    {
     "data": {
      "text/plain": [
       "888499546"
      ]
     },
     "execution_count": 28,
     "metadata": {},
     "output_type": "execute_result"
    }
   ],
   "source": [
    "Sameet.phone_number"
   ]
  },
  {
   "cell_type": "code",
   "execution_count": 29,
   "id": "1f3521ab-9b90-452a-82e0-70cf9e77e7eb",
   "metadata": {},
   "outputs": [
    {
     "data": {
      "text/plain": [
       "'sameet@gmail.com'"
      ]
     },
     "execution_count": 29,
     "metadata": {},
     "output_type": "execute_result"
    }
   ],
   "source": [
    "Sameet.email_id"
   ]
  },
  {
   "cell_type": "code",
   "execution_count": 30,
   "id": "21caaa61-8e46-4639-a99e-daaf915f49c9",
   "metadata": {},
   "outputs": [
    {
     "data": {
      "text/plain": [
       "102"
      ]
     },
     "execution_count": 30,
     "metadata": {},
     "output_type": "execute_result"
    }
   ],
   "source": [
    "Sameet.student_id"
   ]
  },
  {
   "cell_type": "code",
   "execution_count": 31,
   "id": "7098eea4-228a-4420-877b-46f3a906ea6a",
   "metadata": {},
   "outputs": [
    {
     "data": {
      "text/plain": [
       "(888499546, 'sameet@gmail.com', 102)"
      ]
     },
     "execution_count": 31,
     "metadata": {},
     "output_type": "execute_result"
    }
   ],
   "source": [
    "Sameet.return_student_details()"
   ]
  },
  {
   "cell_type": "code",
   "execution_count": 9,
   "id": "cf794404-0f54-47c7-b6ee-e6294253e8c9",
   "metadata": {},
   "outputs": [],
   "source": [
    "# we can use any word in place of self\n",
    "class pwskills2:\n",
    "    \n",
    "    def __init__(sati, phone_number, email_id, student_id):\n",
    "        \n",
    "        sati.phone_number = phone_number\n",
    "        sati.email_id = email_id\n",
    "        sati.student_id = student_id\n",
    "    \n",
    "    def return_student_details(sati):\n",
    "        return sati.phone_number,  sati.email_id, sati.student_id"
   ]
  },
  {
   "cell_type": "code",
   "execution_count": 2,
   "id": "789e2a2b-3192-43fe-84f1-314d774e560d",
   "metadata": {},
   "outputs": [],
   "source": [
    "sandy = pwskills2(987654321, \"sandy@gamil.com\", 104)"
   ]
  },
  {
   "cell_type": "code",
   "execution_count": 3,
   "id": "6a33df51-2aae-4b4f-b0e0-06051a6f7b2e",
   "metadata": {},
   "outputs": [
    {
     "data": {
      "text/plain": [
       "987654321"
      ]
     },
     "execution_count": 3,
     "metadata": {},
     "output_type": "execute_result"
    }
   ],
   "source": [
    "sandy.phone_number"
   ]
  },
  {
   "cell_type": "code",
   "execution_count": 5,
   "id": "f72651b8-a45f-47c5-a752-7ab88483dbcf",
   "metadata": {},
   "outputs": [
    {
     "data": {
      "text/plain": [
       "'sandy@gamil.com'"
      ]
     },
     "execution_count": 5,
     "metadata": {},
     "output_type": "execute_result"
    }
   ],
   "source": [
    "sandy.email_id"
   ]
  },
  {
   "cell_type": "code",
   "execution_count": 6,
   "id": "268e9b2d-4c4e-4865-847a-ec7a0bad16c3",
   "metadata": {},
   "outputs": [
    {
     "data": {
      "text/plain": [
       "104"
      ]
     },
     "execution_count": 6,
     "metadata": {},
     "output_type": "execute_result"
    }
   ],
   "source": [
    "sandy.student_id"
   ]
  },
  {
   "cell_type": "code",
   "execution_count": 8,
   "id": "9a0bb95f-5fbe-42a8-9228-e48a2d36d083",
   "metadata": {},
   "outputs": [
    {
     "data": {
      "text/plain": [
       "(987654321, 'sandy@gamil.com', 104)"
      ]
     },
     "execution_count": 8,
     "metadata": {},
     "output_type": "execute_result"
    }
   ],
   "source": [
    "sandy.return_student_details()"
   ]
  },
  {
   "cell_type": "code",
   "execution_count": 10,
   "id": "0c1dbad7-a7e3-459a-9e6e-6dd0e88a026c",
   "metadata": {},
   "outputs": [],
   "source": [
    "class pwskills3:\n",
    "    \n",
    "    def __init__(sati, phone_number, email_id, student_id):\n",
    "        \n",
    "        sati.number = phone_number\n",
    "        sati.email = email_id\n",
    "        sati.student_number = student_id\n",
    "    \n",
    "    def return_student_details(sati):\n",
    "        return sati.number,  sati.email, sati.student_number"
   ]
  },
  {
   "cell_type": "code",
   "execution_count": 11,
   "id": "11ee6933-57a3-4d9d-bea0-4ffca28f20db",
   "metadata": {},
   "outputs": [],
   "source": [
    "mandy = pwskills3(87654321, \"mandy@gamil.com\", 105)"
   ]
  },
  {
   "cell_type": "code",
   "execution_count": 12,
   "id": "8a126c3d-6a3a-4975-9353-e9418f5924ae",
   "metadata": {},
   "outputs": [
    {
     "ename": "AttributeError",
     "evalue": "'pwskills3' object has no attribute 'phone_number'",
     "output_type": "error",
     "traceback": [
      "\u001b[0;31m---------------------------------------------------------------------------\u001b[0m",
      "\u001b[0;31mAttributeError\u001b[0m                            Traceback (most recent call last)",
      "Cell \u001b[0;32mIn[12], line 1\u001b[0m\n\u001b[0;32m----> 1\u001b[0m \u001b[43mmandy\u001b[49m\u001b[38;5;241;43m.\u001b[39;49m\u001b[43mphone_number\u001b[49m\n",
      "\u001b[0;31mAttributeError\u001b[0m: 'pwskills3' object has no attribute 'phone_number'"
     ]
    }
   ],
   "source": [
    "mandy.phone_number"
   ]
  },
  {
   "cell_type": "code",
   "execution_count": 13,
   "id": "42b07de4-5b1c-44ec-ad98-2ee554e827cc",
   "metadata": {},
   "outputs": [
    {
     "data": {
      "text/plain": [
       "87654321"
      ]
     },
     "execution_count": 13,
     "metadata": {},
     "output_type": "execute_result"
    }
   ],
   "source": [
    "mandy.number"
   ]
  },
  {
   "cell_type": "code",
   "execution_count": 14,
   "id": "2ed9458e-799e-4d32-8c90-5cae52df76b9",
   "metadata": {},
   "outputs": [
    {
     "data": {
      "text/plain": [
       "(87654321, 'mandy@gamil.com', 105)"
      ]
     },
     "execution_count": 14,
     "metadata": {},
     "output_type": "execute_result"
    }
   ],
   "source": [
    "mandy.return_student_details()"
   ]
  },
  {
   "cell_type": "code",
   "execution_count": null,
   "id": "6594c5ed-d624-4766-9e81-dd031db4fc0b",
   "metadata": {},
   "outputs": [],
   "source": []
  }
 ],
 "metadata": {
  "kernelspec": {
   "display_name": "Python 3 (ipykernel)",
   "language": "python",
   "name": "python3"
  },
  "language_info": {
   "codemirror_mode": {
    "name": "ipython",
    "version": 3
   },
   "file_extension": ".py",
   "mimetype": "text/x-python",
   "name": "python",
   "nbconvert_exporter": "python",
   "pygments_lexer": "ipython3",
   "version": "3.10.8"
  }
 },
 "nbformat": 4,
 "nbformat_minor": 5
}
