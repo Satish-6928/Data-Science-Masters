{
 "cells": [
  {
   "cell_type": "markdown",
   "id": "38464cc8-baeb-4c63-9aeb-778e054bc9be",
   "metadata": {},
   "source": [
    "## Tuple, Set and Dict assignment"
   ]
  },
  {
   "cell_type": "markdown",
   "id": "eccd41ce-ada8-40ac-be45-cef9e08db1b4",
   "metadata": {},
   "source": [
    "### 1.What are the characteristics of the tuples? Is tuple Immutable?"
   ]
  },
  {
   "cell_type": "markdown",
   "id": "ddc5b7e3-ee7a-4fe0-ae26-9e2bc3193f58",
   "metadata": {},
   "source": [
    "Yes, Tuple is Immutable.\n",
    "\n",
    "Characteristics of the tuple are as follows :-\n",
    "1.They are indexed\n",
    "2.Tuples are ordered\n",
    "3.These are Immutable\n",
    "4.They can contain duplicate items"
   ]
  },
  {
   "cell_type": "markdown",
   "id": "9823ffcf-d297-47a2-af6e-52d3e9c324da",
   "metadata": {},
   "source": [
    "### 2.What are the two tuple methods in python? Give an example of each method. Give a reason why tuples have only two in-built methods as compared to Lists."
   ]
  },
  {
   "cell_type": "markdown",
   "id": "de95643d-b18d-41e5-b235-ae6054a6507b",
   "metadata": {},
   "source": [
    "The two tuple methods in python are count() and index()."
   ]
  },
  {
   "cell_type": "code",
   "execution_count": 3,
   "id": "c01fd121-1bc6-4d66-83c1-933bb91cbcff",
   "metadata": {},
   "outputs": [
    {
     "data": {
      "text/plain": [
       "3"
      ]
     },
     "execution_count": 3,
     "metadata": {},
     "output_type": "execute_result"
    }
   ],
   "source": [
    "# Example for count() function\n",
    "a = (9,5,3,8,7,5,8,5,9,0)\n",
    "a.count(5)"
   ]
  },
  {
   "cell_type": "code",
   "execution_count": 4,
   "id": "50b75ec5-f916-4589-8454-217aa44b82c3",
   "metadata": {},
   "outputs": [
    {
     "data": {
      "text/plain": [
       "1"
      ]
     },
     "execution_count": 4,
     "metadata": {},
     "output_type": "execute_result"
    }
   ],
   "source": [
    "# Example for index() function\n",
    "a.index(5)"
   ]
  },
  {
   "cell_type": "markdown",
   "id": "9b6d3530-c13d-4833-ad9c-104cf1c85385",
   "metadata": {},
   "source": [
    "Tuples in Python are designed to be immutable, meaning once created, their values cannot be changed. Because of this, there is limited functionality in terms of methods available for tuples. The two built-in methods for tuples, 'count' and 'index', are meant to provide basic information about the elements in a tuple.\n",
    "\n",
    "In contrast, lists are mutable, so they have a wider range of built-in methods to allow for modifications to be made to the list. This includes methods for adding, removing, and manipulating elements, as well as sorting and searching the list.\n",
    "\n",
    "The design choice of limiting the number of methods available for tuples is intentional and helps ensure that tuples are used in a way that supports their intended purpose as a data structure for storing immutable, ordered collections of elements."
   ]
  },
  {
   "cell_type": "markdown",
   "id": "02327d42-206e-450a-9bd2-2890ed393de8",
   "metadata": {},
   "source": [
    "### 3.Which collection datatypes in python do not allow duplicate items? Write a code using a set to remove duplicates from the given list.\n",
    "### List = [1, 1, 1, 2, 1, 3, 1, 4, 2, 1, 2, 2, 2, 3, 2, 4, 3, 1, 3, 2, 3, 3, 3, 4, 4, 1, 4, 2, 4, 3, 4, 4]"
   ]
  },
  {
   "cell_type": "markdown",
   "id": "bf8ab9c2-3c7f-40f0-9e14-dfe5d86e4269",
   "metadata": {},
   "source": [
    "In Python, there are two collection data types that do not allow duplicate items: sets and dictionaries.\n",
    "\n",
    "Sets are unordered collections of unique elements. In other words, a set can store only one instance of a particular value, and duplicates are not allowed. You can create a set by using the set() constructor or by enclosing a sequence of elements within curly braces, like this: '{1, 2, 3}'.\n",
    "\n",
    "Dictionaries, on the other hand, are unordered collections of key-value pairs, where each key must be unique. You can create a dictionary by using the dict() constructor or by enclosing a sequence of key-value pairs within curly braces, separated by colons, like this: '{\"key1\": \"value1\", \"key2\": \"value2\"}'.\n",
    "\n",
    "Both sets and dictionaries are commonly used in Python for various data manipulation tasks and can be very useful for removing duplicates from a sequence of items."
   ]
  },
  {
   "cell_type": "code",
   "execution_count": 2,
   "id": "ea858dea-98ec-43a6-b172-bd5f00036f46",
   "metadata": {},
   "outputs": [],
   "source": [
    "duplicates_list = [1, 1, 1, 2, 1, 3, 1, 4, 2, 1, 2, 2, 2, 3, 2, 4, 3, 1, 3, 2, 3, 3, 3, 4, 4, 1, 4, 2, 4, 3, 4, 4]"
   ]
  },
  {
   "cell_type": "code",
   "execution_count": 4,
   "id": "fadb9971-18e7-4b63-83a8-3febc1e5f0be",
   "metadata": {},
   "outputs": [
    {
     "data": {
      "text/plain": [
       "[1, 2, 3, 4]"
      ]
     },
     "execution_count": 4,
     "metadata": {},
     "output_type": "execute_result"
    }
   ],
   "source": [
    "list(set(duplicates_list))"
   ]
  },
  {
   "cell_type": "markdown",
   "id": "7dab86f0-c939-4cbe-bde5-19c0677ee238",
   "metadata": {},
   "source": [
    "### 4.Explain the difference between the union() and update() methods for a set. Give an example of each method."
   ]
  },
  {
   "cell_type": "markdown",
   "id": "69873c20-6daf-47a2-9c26-ae4c71f19931",
   "metadata": {},
   "source": [
    "The 'union()' and 'update()' methods are used to combine two or more sets in Python. However, they differ in the way they handle duplicates and the return value.\n",
    "\n",
    "The 'union()' method returns a new set that contains all the elements of the original set and all the elements of the set(s) that are being combined with the original set. The original set remains unchanged. The duplicates are kept in the resulting set, which means that if an element appears more than once in the original set or in the set(s) being combined, it will appear only once in the resulting set.\n",
    "\n",
    "Here's an example of using the 'union()' method:"
   ]
  },
  {
   "cell_type": "code",
   "execution_count": 5,
   "id": "fcf59902-3c1f-4d3f-b41b-f2dcec7e89a9",
   "metadata": {},
   "outputs": [
    {
     "name": "stdout",
     "output_type": "stream",
     "text": [
      "{1, 2, 3, 4, 5}\n"
     ]
    }
   ],
   "source": [
    "set1 = {1, 2, 3}\n",
    "set2 = {3, 4, 5}\n",
    "set3 = set1.union(set2)\n",
    "print(set3)"
   ]
  },
  {
   "cell_type": "markdown",
   "id": "3dc909ca-b401-429d-abfd-2a34c383edfe",
   "metadata": {},
   "source": [
    "The 'update()' method, on the other hand, updates the original set by adding all the elements of the set(s) that are being combined with the original set. The duplicates are removed, so if an element appears more than once in the set(s) being combined, it will appear only once in the updated set. The updated set is returned.\n",
    "\n",
    "Here's an example of using the 'update()' method:"
   ]
  },
  {
   "cell_type": "code",
   "execution_count": 6,
   "id": "1d0f643f-3170-4cfe-8a26-5ac007807ecf",
   "metadata": {},
   "outputs": [
    {
     "name": "stdout",
     "output_type": "stream",
     "text": [
      "{1, 2, 3, 4, 5}\n"
     ]
    }
   ],
   "source": [
    "set1 = {1, 2, 3}\n",
    "set2 = {3, 4, 5}\n",
    "set1.update(set2)\n",
    "print(set1)"
   ]
  },
  {
   "cell_type": "code",
   "execution_count": 12,
   "id": "1da036cb-ef12-47b4-ac3b-5dd260b767c5",
   "metadata": {},
   "outputs": [
    {
     "name": "stdout",
     "output_type": "stream",
     "text": [
      "{1, 2, 3, 4, 5}\n"
     ]
    }
   ],
   "source": [
    "# Example for union()\n",
    "set1 = {1,2,3}\n",
    "set2 = {3,5,4,5}\n",
    "set3 = set1.union(set2)\n",
    "print(set3)"
   ]
  },
  {
   "cell_type": "code",
   "execution_count": 13,
   "id": "58d70382-fbdd-49b4-896c-398b719447ec",
   "metadata": {},
   "outputs": [
    {
     "name": "stdout",
     "output_type": "stream",
     "text": [
      "{1, 2, 3, 4, 5}\n"
     ]
    }
   ],
   "source": [
    "# Example for update()\n",
    "set1 = {1,2,3}\n",
    "set2 = {3,5,4,5}\n",
    "set1.update(set2)\n",
    "print(set1)"
   ]
  },
  {
   "cell_type": "markdown",
   "id": "89dcd80e-e66a-440f-883e-de7deb5fbe4c",
   "metadata": {},
   "source": [
    "### 5.What is a dictionary? Give an example. Also, state whether a dictionary is ordered or unordered."
   ]
  },
  {
   "cell_type": "markdown",
   "id": "aa035e69-8a9c-43c9-94f9-ffe387cd7014",
   "metadata": {},
   "source": [
    "A dictionary is a collection of key-value pairs, where each key is unique and maps to a corresponding value. In programming, dictionaries are used to store values that can be looked up efficiently by a key.\n",
    "\n",
    "For example, consider a dictionary that maps the names of cities to their populations. The key would be the name of the city, and the value would be the population of that city. \n",
    "Here's an example:"
   ]
  },
  {
   "cell_type": "code",
   "execution_count": 14,
   "id": "648578ef-3678-4f2d-a2cf-636ec983033e",
   "metadata": {},
   "outputs": [],
   "source": [
    "city_populations = {\"New York\": 8336697, \"Los Angeles\": 3990456, \"Chicago\": 2705994}"
   ]
  },
  {
   "cell_type": "markdown",
   "id": "fe736174-4dc3-4c2b-9581-21e222ef1bda",
   "metadata": {},
   "source": [
    "Dictionaries are unordered. This means that the items in a dictionary do not have a defined order, and their order may change when the dictionary is modified. This is in contrast to ordered collections, such as lists or tuples, which maintain a specific order of elements."
   ]
  },
  {
   "cell_type": "markdown",
   "id": "20856cb1-1612-4fb7-b94a-f54723ced306",
   "metadata": {},
   "source": [
    "### 6.Can we create a nested dictionary? If so, please give an example by creating a simple one-level nested dictionary."
   ]
  },
  {
   "cell_type": "markdown",
   "id": "db5e8e19-dbf4-43b5-a3b0-99d310afe80a",
   "metadata": {},
   "source": [
    "Yes, we can create a nested dictionary in which a value in the dictionary is itself a dictionary. This is known as a one-level nested dictionary."
   ]
  },
  {
   "cell_type": "code",
   "execution_count": 17,
   "id": "b6dce40d-6459-4246-8922-5ad66f89645d",
   "metadata": {},
   "outputs": [],
   "source": [
    "employee_info = {\"Satish K\": {\"age\": 32,\"department\": \"Marketing\",\"position\": \"Manager\"},\n",
    "                 \"Sameet D\": {\"age\": 27,\"department\": \"Sales\",\"position\": \"Associate\"}}"
   ]
  },
  {
   "cell_type": "code",
   "execution_count": 21,
   "id": "52c059e0-d5a2-48f3-95f7-683ddcf25458",
   "metadata": {},
   "outputs": [
    {
     "data": {
      "text/plain": [
       "{'age': 32, 'department': 'Marketing', 'position': 'Manager'}"
      ]
     },
     "execution_count": 21,
     "metadata": {},
     "output_type": "execute_result"
    }
   ],
   "source": [
    "Satish_K_info = employee_info[\"Satish K\"]\n",
    "Satish_K_info"
   ]
  },
  {
   "cell_type": "code",
   "execution_count": 22,
   "id": "235b02de-9f81-4ead-a499-e60867e51685",
   "metadata": {},
   "outputs": [
    {
     "data": {
      "text/plain": [
       "32"
      ]
     },
     "execution_count": 22,
     "metadata": {},
     "output_type": "execute_result"
    }
   ],
   "source": [
    "Satish_K_age = Satish_K_info[\"age\"]\n",
    "Satish_K_age"
   ]
  },
  {
   "cell_type": "markdown",
   "id": "729cc9b5-37bf-4ee6-8620-319923917188",
   "metadata": {},
   "source": [
    "### 7.Using setdefault() method, create key named topics in the given dictionary and also add the value of the key as this list ['Python', 'Machine Learning’, 'Deep Learning']\n",
    "### dict1 = {'language' : 'Python', 'course': 'Data Science Masters'}"
   ]
  },
  {
   "cell_type": "code",
   "execution_count": 2,
   "id": "72c3dad0-03fd-4332-9e46-79d27e8ab771",
   "metadata": {},
   "outputs": [
    {
     "name": "stdout",
     "output_type": "stream",
     "text": [
      "{'language': 'Python', 'course': 'Data Science Masters', 'topics': ['Python', 'Machine Learning', 'Deep Learning']}\n"
     ]
    }
   ],
   "source": [
    "dict1 = {'language' : 'Python', 'course': 'Data Science Masters'}\n",
    "dict1.setdefault('topics',['Python','Machine Learning','Deep Learning'])\n",
    "print(dict1)"
   ]
  },
  {
   "cell_type": "markdown",
   "id": "f71fca23-d033-48eb-aa66-ef4f899f9dcb",
   "metadata": {},
   "source": [
    "### 8.What are the three view objects in dictionaries? Use the three in-built methods in python to display these three view objects for the given dictionary.\n",
    "### dict1 = {'Sport': 'Cricket' , 'Teams': ['India', 'Australia', 'England', 'South Africa', 'Sri Lanka', 'New Zealand']}"
   ]
  },
  {
   "cell_type": "markdown",
   "id": "300c75f1-6543-4408-bc3c-b4ba9a4c17ab",
   "metadata": {},
   "source": [
    "In dictionaries, there are three view objects:\n",
    "\n",
    "1.keys()\n",
    "2.values()\n",
    "3.items()\n",
    "\n",
    "The keys() view object returns a view of all the keys in the dictionary, the values() view object returns a view of all the values in the dictionary, and the items() view object returns a view of all the key-value pairs in the dictionary as tuples.\n",
    "\n",
    "Here's how we can use these three in-built methods to display the view objects in the given dictionary dict1:"
   ]
  },
  {
   "cell_type": "code",
   "execution_count": 4,
   "id": "0d2dd517-d71e-489d-b8ab-cbe50c694e81",
   "metadata": {},
   "outputs": [
    {
     "name": "stdout",
     "output_type": "stream",
     "text": [
      "dict_keys(['Sport', 'Teams'])\n",
      "dict_values(['Cricket', ['India', 'Australia', 'England', 'South Africa', 'Sri Lanka', 'New Zealand']])\n",
      "dict_items([('Sport', 'Cricket'), ('Teams', ['India', 'Australia', 'England', 'South Africa', 'Sri Lanka', 'New Zealand'])])\n"
     ]
    }
   ],
   "source": [
    "dict1 = {'Sport': 'Cricket' , 'Teams': ['India', 'Australia', 'England', 'South Africa', 'Sri Lanka', 'New Zealand']}\n",
    "\n",
    "# Display keys\n",
    "print(dict1.keys())\n",
    "\n",
    "# Display values\n",
    "print(dict1.values())\n",
    "\n",
    "# Display key-value pairs\n",
    "print(dict1.items())\n"
   ]
  },
  {
   "cell_type": "code",
   "execution_count": null,
   "id": "9800cbb3-5cd7-4f29-b69f-c9ca2d11aa25",
   "metadata": {},
   "outputs": [],
   "source": []
  }
 ],
 "metadata": {
  "kernelspec": {
   "display_name": "Python 3 (ipykernel)",
   "language": "python",
   "name": "python3"
  },
  "language_info": {
   "codemirror_mode": {
    "name": "ipython",
    "version": 3
   },
   "file_extension": ".py",
   "mimetype": "text/x-python",
   "name": "python",
   "nbconvert_exporter": "python",
   "pygments_lexer": "ipython3",
   "version": "3.10.8"
  }
 },
 "nbformat": 4,
 "nbformat_minor": 5
}
